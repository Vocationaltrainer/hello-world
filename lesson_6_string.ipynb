{
  "nbformat": 4,
  "nbformat_minor": 0,
  "metadata": {
    "colab": {
      "name": "lesson 6 string",
      "provenance": [],
      "collapsed_sections": [],
      "authorship_tag": "ABX9TyODHPQRvKfDe7LlIYd5rfOU",
      "include_colab_link": true
    },
    "kernelspec": {
      "name": "python3",
      "display_name": "Python 3"
    },
    "language_info": {
      "name": "python"
    }
  },
  "cells": [
    {
      "cell_type": "markdown",
      "metadata": {
        "id": "view-in-github",
        "colab_type": "text"
      },
      "source": [
        "<a href=\"https://colab.research.google.com/github/Vocationaltrainer/hello-world/blob/main/lesson_6_string.ipynb\" target=\"_parent\"><img src=\"https://colab.research.google.com/assets/colab-badge.svg\" alt=\"Open In Colab\"/></a>"
      ]
    },
    {
      "cell_type": "code",
      "execution_count": 23,
      "metadata": {
        "colab": {
          "base_uri": "https://localhost:8080/"
        },
        "id": "FyxuXQzfkoFe",
        "outputId": "c7a716d3-b5ab-478c-f636-0902e46750e8"
      },
      "outputs": [
        {
          "output_type": "stream",
          "name": "stdout",
          "text": [
            "p\n",
            "<class 'str'>\n",
            "thks ks strkng\n",
            "s\n",
            "this\n",
            "is strin\n",
            "python is great\n"
          ]
        }
      ],
      "source": [
        "p = \"this is string\"\n",
        "print(\"p\")\n",
        "print(type(p))                    #type of variable\n",
        "print(p.replace(\"i\", \"k\"))        #replace any letter in string\n",
        "print(p[3])                       # print specific letter\n",
        "print(p[0:4])                     # print part of string\n",
        "print(p[-9:-1])                   # reverse printing\n",
        "a=\"          python is great\"\n",
        "print(a.strip())                  # removing white spaces\n"
      ]
    }
  ]
}