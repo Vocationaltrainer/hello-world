{
  "nbformat": 4,
  "nbformat_minor": 0,
  "metadata": {
    "colab": {
      "name": "Lesson 8 string operations",
      "provenance": [],
      "authorship_tag": "ABX9TyO5SusP6O/tQqberPmek5lv",
      "include_colab_link": true
    },
    "kernelspec": {
      "name": "python3",
      "display_name": "Python 3"
    },
    "language_info": {
      "name": "python"
    }
  },
  "cells": [
    {
      "cell_type": "markdown",
      "metadata": {
        "id": "view-in-github",
        "colab_type": "text"
      },
      "source": [
        "<a href=\"https://colab.research.google.com/github/Vocationaltrainer/hello-world/blob/main/Lesson_8_string_operations.ipynb\" target=\"_parent\"><img src=\"https://colab.research.google.com/assets/colab-badge.svg\" alt=\"Open In Colab\"/></a>"
      ]
    },
    {
      "cell_type": "code",
      "execution_count": null,
      "metadata": {
        "id": "T9Vw8nv0vq0p"
      },
      "outputs": [],
      "source": [
        ""
      ]
    },
    {
      "cell_type": "code",
      "source": [
        "p = \"this is string  \\\"python\\\" is  language \"   #printing double inverted string by \\ operator\n",
        "z = \"xyzkhd\"\n",
        "print(p+\"     \"+z)        #concatenation\n",
        "print(p+z)\n",
        "x = \"i am no  {0} and i am no  {1} enjoy it\"     #format operator\n",
        "d = 1\n",
        "f = 2\n",
        "print(x.format(d,f))\n",
        "y = \"welcom  to python course\"\n",
        "print(y.capitalize())  #capitaliza first letter of string\n",
        "print(y.isupper())     #checking first letter uppercase \n",
        "print(y.islower())     #print first letter lowercase\n",
        "b = \"GUUIIUJ\"\n",
        "print(b.isupper())    #checking uppercase\n",
        "h = \"i am good man\"\n",
        "print(h.find(\"m\"))    #find position of letter\n",
        "print(y.count(\"o\"))   # counting the specific letter\n",
        "\n",
        "\n",
        "\n",
        "\n",
        "\n"
      ],
      "metadata": {
        "colab": {
          "base_uri": "https://localhost:8080/"
        },
        "id": "dWTTQFTevwr5",
        "outputId": "27657ab4-d27a-4188-9524-c2453cb76a27"
      },
      "execution_count": 38,
      "outputs": [
        {
          "output_type": "stream",
          "name": "stdout",
          "text": [
            "this is string  \"python\" is  language      xyzkhd\n",
            "this is string  \"python\" is  language xyzkhd\n",
            "i am no  1 and i am no  2 enjoy it\n",
            "Welcom  to python course\n",
            "False\n",
            "True\n",
            "True\n",
            "3\n",
            "4\n"
          ]
        }
      ]
    }
  ]
}